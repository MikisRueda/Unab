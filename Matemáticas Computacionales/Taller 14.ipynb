{
  "nbformat": 4,
  "nbformat_minor": 0,
  "metadata": {
    "colab": {
      "provenance": [],
      "authorship_tag": "ABX9TyNj5C52WUvkeMCi4rlYnfI/",
      "include_colab_link": true
    },
    "kernelspec": {
      "name": "python3",
      "display_name": "Python 3"
    },
    "language_info": {
      "name": "python"
    }
  },
  "cells": [
    {
      "cell_type": "markdown",
      "metadata": {
        "id": "view-in-github",
        "colab_type": "text"
      },
      "source": [
        "<a href=\"https://colab.research.google.com/github/MikisRueda/MC-2023-Miguel-Rueda/blob/main/Taller%2014.ipynb\" target=\"_parent\"><img src=\"https://colab.research.google.com/assets/colab-badge.svg\" alt=\"Open In Colab\"/></a>"
      ]
    },
    {
      "cell_type": "code",
      "execution_count": 15,
      "metadata": {
        "colab": {
          "base_uri": "https://localhost:8080/"
        },
        "id": "OE7hTtBKOAgd",
        "outputId": "21b9b6dd-8054-4a56-ffa3-99841baf289e"
      },
      "outputs": [
        {
          "output_type": "stream",
          "name": "stdout",
          "text": [
            "Final Augmented Matrix is : \n",
            "1.0 0.0 0.0 2.2\n",
            "0.0 2.0 0.0 2.8\n",
            "0.0 0.0 -2.5 -3.0\n",
            "\n",
            "Result is : \n",
            "2.2 1.4 1.2 "
          ]
        }
      ],
      "source": [
        "# Python3 Implementation for Gauss-Jordan\n",
        "# Elimination Method\n",
        "M = 10\n",
        " \n",
        "# Function to print the matrix\n",
        "def PrintMatrix(a, n):\n",
        "    for i in range(n):\n",
        "        print(*a[i])\n",
        " \n",
        "# function to reduce matrix to reduced\n",
        "# row echelon form.\n",
        "def PerformOperation(a, n):\n",
        "    i = 0\n",
        "    j = 0\n",
        "    k = 0\n",
        "    c = 0\n",
        "    flag = 0\n",
        "    m = 0\n",
        "    pro = 0\n",
        " \n",
        "    # Performing elementary operations\n",
        "    for i in range(n):\n",
        "        if (a[i][i] == 0):\n",
        " \n",
        "            c = 1\n",
        "            while ((i + c) < n and a[i + c][i] == 0):\n",
        "                c += 1\n",
        "            if ((i + c) == n):\n",
        " \n",
        "                flag = 1\n",
        "                break\n",
        " \n",
        "            j = i\n",
        "            for k in range(1 + n):\n",
        " \n",
        "                temp = a[j][k]\n",
        "                a[j][k] = a[j+c][k]\n",
        "                a[j+c][k] = temp\n",
        " \n",
        "        for j in range(n):\n",
        " \n",
        "            # Excluding all i == j\n",
        "            if (i != j):\n",
        "                # Converting Matrix to reduced row\n",
        "                # echelon form(diagonal matrix)\n",
        "                p = a[j][i] / a[i][i]\n",
        " \n",
        "                k = 0\n",
        "                for k in range(n + 1):\n",
        "                    a[j][k] = a[j][k] - (a[i][k]) * p\n",
        " \n",
        "    return flag\n",
        " \n",
        "# Function to print the desired result\n",
        "# if unique solutions exists, otherwise\n",
        "# prints no solution or infinite solutions\n",
        "# depending upon the input given.\n",
        "def PrintResult(a, n, flag):\n",
        " \n",
        "    print(\"Result is : \")\n",
        " \n",
        "    if (flag == 2):\n",
        "        print(\"Infinite Solutions Exists<br>\")\n",
        "    elif (flag == 3):\n",
        "        print(\"No Solution Exists<br>\")\n",
        " \n",
        "    # Printing the solution by dividing constants by\n",
        "    # their respective diagonal elements\n",
        "    else:\n",
        "        for i in range(n):\n",
        "            print(a[i][n] / a[i][i], end=\" \")\n",
        " \n",
        "# To check whether infinite solutions\n",
        "# exists or no solution exists\n",
        "def CheckConsistency(a, n, flag):\n",
        " \n",
        "    # flag == 2 for infinite solution\n",
        "    # flag == 3 for No solution\n",
        "    flag = 3\n",
        "    for i in range(n):\n",
        "        sum = 0\n",
        "        for j in range(n):\n",
        "            sum = sum + a[i][j]\n",
        "        if (sum == a[i][j]):\n",
        "            flag = 2\n",
        " \n",
        "    return flag\n",
        " \n",
        "# Driver code\n",
        "a = [[0, 2, 1, 4],  [1, 1, 2, 6],   [2, 1, 1, 7]]\n",
        " \n",
        "# Order of Matrix(n)\n",
        "n = 3\n",
        "flag = 0\n",
        " \n",
        "# Performing Matrix transformation\n",
        "flag = PerformOperation(a, n)\n",
        " \n",
        "if (flag == 1):\n",
        "    flag = CheckConsistency(a, n, flag)\n",
        " \n",
        "# Printing Final Matrix\n",
        "print(\"Final Augmented Matrix is : \")\n",
        "PrintMatrix(a, n)\n",
        "print()\n",
        " \n",
        "# Printing Solutions(if exist)\n",
        "PrintResult(a, n, flag)\n",
        " \n",
        "# This code is contributed by phasing17"
      ]
    }
  ]
}