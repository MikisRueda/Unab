{
  "nbformat": 4,
  "nbformat_minor": 0,
  "metadata": {
    "colab": {
      "provenance": [],
      "authorship_tag": "ABX9TyO558+up3nKbqBirJYkxKcL",
      "include_colab_link": true
    },
    "kernelspec": {
      "name": "python3",
      "display_name": "Python 3"
    },
    "language_info": {
      "name": "python"
    }
  },
  "cells": [
    {
      "cell_type": "markdown",
      "metadata": {
        "id": "view-in-github",
        "colab_type": "text"
      },
      "source": [
        "<a href=\"https://colab.research.google.com/github/MikisRueda/MC-2023-Miguel-Rueda/blob/main/Taller15.ipynb\" target=\"_parent\"><img src=\"https://colab.research.google.com/assets/colab-badge.svg\" alt=\"Open In Colab\"/></a>"
      ]
    },
    {
      "cell_type": "code",
      "execution_count": null,
      "metadata": {
        "id": "7HmbOQ93mFaO"
      },
      "outputs": [],
      "source": [
        "import numpy as np\n",
        "\n",
        "def gauss_jordan_inverse(A):\n",
        "    n = len(A)\n",
        "    I = np.identity(n)\n",
        "    M = np.concatenate((A, I), axis=1)\n",
        "    for i in range(n):\n",
        "        max_index = i + np.argmax(abs(M[i:, i]))\n",
        "        M[[i, max_index]] = M[[max_index, i]]\n",
        "        M[i] = M[i] / M[i, i]\n",
        "\n",
        "        for j in range(n):\n",
        "            if i != j:\n",
        "                M[j] = M[j] - M[j, i] * M[i]\n",
        "    return M[:, n:]\n",
        "\n",
        "n = int(input(\"Ingrese el tamaño de la matriz: \"))\n",
        "A = np.zeros((n, n))\n",
        "\n",
        "for i in range(n):\n",
        "    for j in range(n):\n",
        "        A[i][j] = float(input(f\"Ingrese el elemento [{i}][{j}]: \"))\n",
        "\n",
        "A_inv = gauss_jordan_inverse(A)\n",
        "\n",
        "print(\"La matriz inversa de A es:\")\n",
        "print(A_inv)"
      ]
    },
    {
      "cell_type": "code",
      "source": [],
      "metadata": {
        "id": "CqWO6sq0nAKE"
      },
      "execution_count": null,
      "outputs": []
    }
  ]
}