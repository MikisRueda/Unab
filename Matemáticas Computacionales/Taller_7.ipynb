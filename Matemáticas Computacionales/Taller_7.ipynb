{
  "nbformat": 4,
  "nbformat_minor": 0,
  "metadata": {
    "colab": {
      "provenance": [],
      "authorship_tag": "ABX9TyNTsKvEX9Ws2y6fa6UTa30U",
      "include_colab_link": true
    },
    "kernelspec": {
      "name": "python3",
      "display_name": "Python 3"
    },
    "language_info": {
      "name": "python"
    }
  },
  "cells": [
    {
      "cell_type": "markdown",
      "metadata": {
        "id": "view-in-github",
        "colab_type": "text"
      },
      "source": [
        "<a href=\"https://colab.research.google.com/github/MikisRueda/MC-2023-Miguel-Rueda/blob/main/Taller_7.ipynb\" target=\"_parent\"><img src=\"https://colab.research.google.com/assets/colab-badge.svg\" alt=\"Open In Colab\"/></a>"
      ]
    },
    {
      "cell_type": "code",
      "source": [
        "# PROGRAMA #1 ECUACIÓN: e^-x\n",
        "import math\n",
        "print(\"Ingrese el valor a elevar en euler: \")\n",
        "x = float(input())\n",
        "\n",
        "def euleraprox(x, criterio_error):\n",
        "\n",
        "    valor_aprox = 0.0\n",
        "    error = 1.0\n",
        "    iteraciones = 0\n",
        "    \n",
        "    while abs(error) > criterio_error:\n",
        "\n",
        "        #SE HACE USO DE LA SERIE DE TAYLOR PARA CALCULAR EL VALOR APROXIMADO DEPENDIENDO DEL # DE ITERACIONES\n",
        "        termino = ((-1) ** iteraciones) * (x ** iteraciones) / math.factorial(iteraciones)\n",
        "        \n",
        "        valor_aprox += termino\n",
        "        error = termino / valor_aprox\n",
        "        \n",
        "        iteraciones += 1\n",
        "    \n",
        "    valor_exacto = math.exp(x)\n",
        "    error_relativo = abs(valor_aprox - valor_exacto) / valor_exacto * 100\n",
        "    \n",
        "    return (valor_aprox, error_relativo, iteraciones)\n",
        "\n",
        "resultado = euleraprox(x, 0.000000005)\n",
        "print(\"Valor aproximado de e^(-0.85): \", resultado[0])\n",
        "print(\"Error aproximado relativo porcentual: \", resultado[1])\n",
        "print(\"Número de iteraciones realizadas: \", resultado[2])"
      ],
      "metadata": {
        "colab": {
          "base_uri": "https://localhost:8080/"
        },
        "id": "W6Kw4UVeJB6w",
        "outputId": "c3b51fba-b16e-4880-88f1-76c16b85da25"
      },
      "execution_count": 21,
      "outputs": [
        {
          "output_type": "stream",
          "name": "stdout",
          "text": [
            "Ingrese el valor a elevar en euler: \n",
            "-0.85\n",
            "Valor aproximado de e^(-0.85):  2.339646851608371\n",
            "Error aproximado relativo porcentual:  447.3947390984081\n",
            "Número de iteraciones realizadas:  12\n"
          ]
        }
      ]
    },
    {
      "cell_type": "code",
      "source": [
        "# PROGRAMA #2 ECUACIÓN: 1/e^x\n",
        "import math\n",
        "print(\"Ingrese el valor a elevar en euler: \")\n",
        "x = float(input())\n",
        "\n",
        "def euleraprox(x, criterio_error):\n",
        "\n",
        "    valor_aprox = 0.0\n",
        "    error = 1.0\n",
        "    iteraciones = 0\n",
        "    \n",
        "    while abs(error) > criterio_error:\n",
        "\n",
        "        #CON RESPECTO AL ANTERIOR ESTE VARIA AL CAMBIAR EL -1 POR 1\n",
        "        #DE ESTA FORMA AL USAR LA SERIE DE TAYLOR TENDREMOS EN LA SEGUNDA ITERACION\n",
        "        #UN -0.85 QUE AL SER REEMPLAZADOf EN LA FORMULA DEL TALLER QUEDARIA 1 + (-0.85) + x^2/2!...\n",
        "        #DANDONOS COMO RESULTADO EL VALOR APROXIMADO ESPERADO AL FINALIZAR TODAS LAS ITERACIONES.\n",
        "\n",
        "        termino = ((1) ** iteraciones) * (x ** iteraciones) / math.factorial(iteraciones)\n",
        "        \n",
        "        valor_aprox += termino\n",
        "        error = termino / valor_aprox\n",
        "        \n",
        "        iteraciones += 1\n",
        "    \n",
        "    valor_aprox = 1/valor_aprox\n",
        "    valor_exacto = math.exp(x)\n",
        "    error_relativo = abs(valor_aprox - valor_exacto) / valor_exacto * 100\n",
        "    \n",
        "    return (valor_aprox, error_relativo, iteraciones)\n",
        "\n",
        "resultado = euleraprox(x, 0.000000005)\n",
        "print(\"Valor aproximado de e^(-0.85): \", resultado[0])\n",
        "print(\"Error aproximado relativo porcentual: \", resultado[1])\n",
        "print(\"Número de iteraciones realizadas: \", resultado[2])"
      ],
      "metadata": {
        "colab": {
          "base_uri": "https://localhost:8080/"
        },
        "id": "86qTUHzUMUfN",
        "outputId": "6079793a-88a4-4bdf-f072-f6cb90b8ac5c"
      },
      "execution_count": 22,
      "outputs": [
        {
          "output_type": "stream",
          "name": "stdout",
          "text": [
            "Ingrese el valor a elevar en euler: \n",
            "-0.85\n",
            "Valor aproximado de e^(-0.85):  2.339646851825813\n",
            "Error aproximado relativo porcentual:  447.39473914928186\n",
            "Número de iteraciones realizadas:  13\n"
          ]
        }
      ]
    }
  ]
}