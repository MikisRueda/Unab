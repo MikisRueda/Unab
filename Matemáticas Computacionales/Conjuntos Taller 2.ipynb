{
  "nbformat": 4,
  "nbformat_minor": 0,
  "metadata": {
    "colab": {
      "provenance": []
    },
    "kernelspec": {
      "name": "python3",
      "display_name": "Python 3"
    },
    "language_info": {
      "name": "python"
    }
  },
  "cells": [
    {
      "cell_type": "code",
      "execution_count": 12,
      "metadata": {
        "colab": {
          "base_uri": "https://localhost:8080/"
        },
        "id": "VG3GKAYT1vAu",
        "outputId": "748706e0-1a70-4af1-ea74-a086016eca18"
      },
      "outputs": [
        {
          "output_type": "execute_result",
          "data": {
            "text/plain": [
              "{2, 4, 8, 10, 12, 18, 20}"
            ]
          },
          "metadata": {},
          "execution_count": 12
        }
      ],
      "source": [
        "a = {6,7,8,9,10,11,12,13,14,15,16,17,18,19,20}\n",
        "b = {2,4,6,8,10,12,14,16,18,20,22,24}\n",
        "c = {1,4,8,10,12,15,18,20}\n",
        "d = {2,3,5,7,11,13,17,19,23,29,31,37,41,43}\n",
        "\n",
        "def union(a,b):\n",
        "  w = a|b\n",
        "  return (w)\n",
        "\n",
        "def interseccion(a,b):\n",
        "  w = a&b\n",
        "  return (w)\n",
        "\n",
        "def diferencia(a,b):\n",
        "  w = a-b\n",
        "  return (w)\n",
        "\n",
        "def diferenciasim(a,b):\n",
        "  w = a^b\n",
        "  return (w)\n",
        "\n",
        "interseccion(b,diferenciasim(c,d))\n"
      ]
    },
    {
      "cell_type": "code",
      "source": [
        "union(b,interseccion(a,c))"
      ],
      "metadata": {
        "colab": {
          "base_uri": "https://localhost:8080/"
        },
        "id": "xIhzq0vb6F3G",
        "outputId": "a627def5-1acd-4349-98c2-09fd6db1a8e4"
      },
      "execution_count": 9,
      "outputs": [
        {
          "output_type": "execute_result",
          "data": {
            "text/plain": [
              "{2, 4, 6, 8, 10, 12, 14, 15, 16, 18, 20, 22, 24}"
            ]
          },
          "metadata": {},
          "execution_count": 9
        }
      ]
    },
    {
      "cell_type": "code",
      "source": [
        "diferencia(union(b,d),c)"
      ],
      "metadata": {
        "colab": {
          "base_uri": "https://localhost:8080/"
        },
        "id": "kU83EO2b6PQ1",
        "outputId": "e13463f3-fafd-4bb1-c489-367b0735b783"
      },
      "execution_count": 13,
      "outputs": [
        {
          "output_type": "execute_result",
          "data": {
            "text/plain": [
              "{2, 3, 5, 6, 7, 11, 13, 14, 16, 17, 19, 22, 23, 24, 29, 31, 37, 41, 43}"
            ]
          },
          "metadata": {},
          "execution_count": 13
        }
      ]
    },
    {
      "cell_type": "code",
      "source": [
        "diferenciasim(diferencia(a,b),interseccion(a,d))"
      ],
      "metadata": {
        "colab": {
          "base_uri": "https://localhost:8080/"
        },
        "id": "bUwlraHb6Zpb",
        "outputId": "291e4667-21d4-401c-a94f-32aa7b6258a2"
      },
      "execution_count": 11,
      "outputs": [
        {
          "output_type": "execute_result",
          "data": {
            "text/plain": [
              "{9, 15}"
            ]
          },
          "metadata": {},
          "execution_count": 11
        }
      ]
    }
  ]
}