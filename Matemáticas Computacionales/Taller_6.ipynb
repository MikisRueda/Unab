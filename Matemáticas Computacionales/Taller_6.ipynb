{
  "nbformat": 4,
  "nbformat_minor": 0,
  "metadata": {
    "colab": {
      "provenance": [],
      "authorship_tag": "ABX9TyMEsjllkgRU3RMXswC0L6/d",
      "include_colab_link": true
    },
    "kernelspec": {
      "name": "python3",
      "display_name": "Python 3"
    },
    "language_info": {
      "name": "python"
    }
  },
  "cells": [
    {
      "cell_type": "markdown",
      "metadata": {
        "id": "view-in-github",
        "colab_type": "text"
      },
      "source": [
        "<a href=\"https://colab.research.google.com/github/MikisRueda/MC-2023-Miguel-Rueda/blob/main/Taller_6.ipynb\" target=\"_parent\"><img src=\"https://colab.research.google.com/assets/colab-badge.svg\" alt=\"Open In Colab\"/></a>"
      ]
    },
    {
      "cell_type": "code",
      "execution_count": null,
      "metadata": {
        "id": "wB-W03WjazH8"
      },
      "outputs": [],
      "source": [
        "import math\n",
        "\n",
        "print(\"Ingrese el valor en radianes: \")\n",
        "radianes = float(input())\n",
        "\n",
        "def cos_aprox(radianes, criterio_error):\n",
        "    valor_aprox = 0.0\n",
        "    error = 1.0\n",
        "    iteraciones = 0\n",
        "    \n",
        "    while abs(error) > criterio_error:\n",
        "\n",
        "        termino = ((-1) ** iteraciones) * (radianes ** (2 * iteraciones)) / math.factorial(2 * iteraciones)\n",
        "        \n",
        "        valor_aprox += termino\n",
        "        error = termino / valor_aprox\n",
        "        \n",
        "        iteraciones += 1\n",
        "    \n",
        "    error_relativo = abs(error / valor_aprox) * 100\n",
        "    \n",
        "    return (valor_aprox, error_relativo, iteraciones)\n",
        "\n",
        "resultado = cos_aprox(radianes, 1e-8)\n",
        "\n",
        "print(\"Valor aproximado del coseno: \", resultado[0])\n",
        "print(\"Error aproximado relativo porcentual: \", resultado[1])\n",
        "print(\"Número de iteraciones realizadas: \", resultado[2])"
      ]
    }
  ]
}