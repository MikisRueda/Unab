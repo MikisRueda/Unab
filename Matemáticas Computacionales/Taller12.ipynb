{
  "nbformat": 4,
  "nbformat_minor": 0,
  "metadata": {
    "colab": {
      "provenance": [],
      "authorship_tag": "ABX9TyMUlLMcvLNEpMQhYizGOlwB",
      "include_colab_link": true
    },
    "kernelspec": {
      "name": "python3",
      "display_name": "Python 3"
    },
    "language_info": {
      "name": "python"
    }
  },
  "cells": [
    {
      "cell_type": "markdown",
      "metadata": {
        "id": "view-in-github",
        "colab_type": "text"
      },
      "source": [
        "<a href=\"https://colab.research.google.com/github/MikisRueda/MC-2023-Miguel-Rueda/blob/main/Taller12.ipynb\" target=\"_parent\"><img src=\"https://colab.research.google.com/assets/colab-badge.svg\" alt=\"Open In Colab\"/></a>"
      ]
    },
    {
      "cell_type": "code",
      "execution_count": 17,
      "metadata": {
        "colab": {
          "base_uri": "https://localhost:8080/"
        },
        "id": "p-6h2YLyLrvm",
        "outputId": "103c8070-b344-4a77-c86e-12ea55c878d8"
      },
      "outputs": [
        {
          "output_type": "stream",
          "name": "stdout",
          "text": [
            "Orden:  0\n",
            "Valor aproximado de e^(0.455):  0.6376281516217733\n",
            "Error aproximado relativo porcentual:  100.000000005\n",
            "Orden:  1\n",
            "Valor aproximado de e^(0.455):  0.6344400108636644\n",
            "Error aproximado relativo porcentual:  0.5025125678140779\n",
            "Orden:  2\n",
            "Valor aproximado de e^(0.455):  0.6344479812155597\n",
            "Error aproximado relativo porcentual:  0.0012562706248016276\n",
            "Orden:  3\n",
            "Valor aproximado de e^(0.455):  0.6344479679316398\n",
            "Error aproximado relativo porcentual:  2.0987760895206234e-06\n",
            "Orden:  4\n",
            "Valor aproximado de e^(0.455):  0.6344479679482448\n",
            "Error aproximado relativo porcentual:  7.617226389612811e-09\n",
            "Orden:  5\n",
            "Valor aproximado de e^(0.455):  0.6344479679482281\n",
            "Error aproximado relativo porcentual:  5.002624855970968e-09\n",
            "Orden:  6\n",
            "Valor aproximado de e^(0.455):  0.6344479679482281\n",
            "Error aproximado relativo porcentual:  5e-09\n",
            "Orden:  7\n",
            "Valor aproximado de e^(0.455):  0.6344479679482281\n",
            "Error aproximado relativo porcentual:  5e-09\n",
            "Orden:  8\n",
            "Valor aproximado de e^(0.455):  0.6344479679482281\n",
            "Error aproximado relativo porcentual:  5e-09\n",
            "Orden:  9\n",
            "Valor aproximado de e^(0.455):  0.6344479679482281\n",
            "Error aproximado relativo porcentual:  5e-09\n",
            "Orden:  10\n",
            "Valor aproximado de e^(0.455):  0.6344479679482281\n",
            "Error aproximado relativo porcentual:  5e-09\n",
            "Orden:  11\n",
            "Valor aproximado de e^(0.455):  0.6344479679482281\n",
            "Error aproximado relativo porcentual:  5e-09\n",
            "Orden:  12\n",
            "Valor aproximado de e^(0.455):  0.6344479679482281\n",
            "Error aproximado relativo porcentual:  5e-09\n",
            "Orden:  13\n",
            "Valor aproximado de e^(0.455):  0.6344479679482281\n",
            "Error aproximado relativo porcentual:  5e-09\n",
            "Orden:  14\n",
            "Valor aproximado de e^(0.455):  0.6344479679482281\n",
            "Error aproximado relativo porcentual:  5e-09\n",
            "Orden:  15\n",
            "Valor aproximado de e^(0.455):  0.6344479679482281\n",
            "Error aproximado relativo porcentual:  5e-09\n"
          ]
        }
      ],
      "source": [
        "import math\n",
        "x = 0.45\n",
        "\n",
        "def euleraprox(x, criterio_error):\n",
        "\n",
        "    h = 0.005\n",
        "    error = 1.0\n",
        "    iteraciones = 0\n",
        "    valor_aprox = 0\n",
        "    \n",
        "    while iteraciones <= 15:\n",
        "\n",
        "        #SE HACE USO DE LA SERIE DE TAYLOR PARA CALCULAR EL VALOR APROXIMADO DEPENDIENDO DEL # DE ITERACIONES\n",
        "        termino = ((-1) ** iteraciones) * math.e**-0.45*(h ** iteraciones) / math.factorial(iteraciones)\n",
        "        val_anterior = valor_aprox\n",
        "        valor_aprox += termino\n",
        "        error = abs((valor_aprox - val_anterior) / valor_aprox)*100\n",
        "        print(\"Orden: \", iteraciones)\n",
        "        print(\"Valor aproximado de e^(0.455): \", valor_aprox)\n",
        "        print(\"Error aproximado relativo porcentual: \", error)\n",
        "        iteraciones += 1\n",
        "\n",
        "    return (valor_aprox, error, iteraciones)\n",
        "\n",
        "resultado = euleraprox(x, 0.000000005)\n"
      ]
    }
  ]
}