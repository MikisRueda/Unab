{
  "nbformat": 4,
  "nbformat_minor": 0,
  "metadata": {
    "colab": {
      "provenance": [],
      "authorship_tag": "ABX9TyN1xtC4bjvnccGgBoQVNOk4",
      "include_colab_link": true
    },
    "kernelspec": {
      "name": "python3",
      "display_name": "Python 3"
    },
    "language_info": {
      "name": "python"
    }
  },
  "cells": [
    {
      "cell_type": "markdown",
      "metadata": {
        "id": "view-in-github",
        "colab_type": "text"
      },
      "source": [
        "<a href=\"https://colab.research.google.com/github/MikisRueda/MC-2023-Miguel-Rueda/blob/main/Taller16.ipynb\" target=\"_parent\"><img src=\"https://colab.research.google.com/assets/colab-badge.svg\" alt=\"Open In Colab\"/></a>"
      ]
    },
    {
      "cell_type": "code",
      "execution_count": 9,
      "metadata": {
        "colab": {
          "base_uri": "https://localhost:8080/"
        },
        "id": "D3NFW3GcUFGR",
        "outputId": "426be93e-8394-44f9-8d23-61eca700d687"
      },
      "outputs": [
        {
          "output_type": "stream",
          "name": "stdout",
          "text": [
            "La ecuación de la línea recta es: y = 0.07 + 0.84x\n"
          ]
        }
      ],
      "source": [
        "import numpy as np\n",
        "\n",
        "x = np.array([1, 2, 3, 4, 5, 6, 7])\n",
        "y = np.array([0.5, 2.5, 2.0, 4.0, 3.5, 6.0, 5.5])\n",
        "\n",
        "n = len(x)\n",
        "sum_x = np.sum(x)\n",
        "sum_y = np.sum(y)\n",
        "sum_xy = np.sum(x * y)\n",
        "sum_x_squared = np.sum(x ** 2)\n",
        "\n",
        "m = (n * sum_xy - sum_x * sum_y) / (n * sum_x_squared - sum_x ** 2)\n",
        "b = (sum_y - m * sum_x) / n\n",
        "\n",
        "print(\"La ecuación de la línea recta es: y = {:.2f} + {:.2f}x\".format(b, m))"
      ]
    },
    {
      "cell_type": "code",
      "source": [],
      "metadata": {
        "id": "plFA0uiCUYh9"
      },
      "execution_count": null,
      "outputs": []
    }
  ]
}