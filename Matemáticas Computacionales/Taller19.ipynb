{
  "nbformat": 4,
  "nbformat_minor": 0,
  "metadata": {
    "colab": {
      "provenance": [],
      "authorship_tag": "ABX9TyNnlSsFGFt1nQIe93HjozH/",
      "include_colab_link": true
    },
    "kernelspec": {
      "name": "python3",
      "display_name": "Python 3"
    },
    "language_info": {
      "name": "python"
    }
  },
  "cells": [
    {
      "cell_type": "markdown",
      "metadata": {
        "id": "view-in-github",
        "colab_type": "text"
      },
      "source": [
        "<a href=\"https://colab.research.google.com/github/MikisRueda/MC-2023-Miguel-Rueda/blob/main/Taller19.ipynb\" target=\"_parent\"><img src=\"https://colab.research.google.com/assets/colab-badge.svg\" alt=\"Open In Colab\"/></a>"
      ]
    },
    {
      "cell_type": "code",
      "execution_count": 1,
      "metadata": {
        "colab": {
          "base_uri": "https://localhost:8080/"
        },
        "id": "crNPzNvJy_wL",
        "outputId": "e513c2b7-b9c4-4ce0-8e44-01568e221ada"
      },
      "outputs": [
        {
          "output_type": "stream",
          "name": "stdout",
          "text": [
            "Desviación estándar: 4.628615520072181\n",
            "Error estándar de la estimación: 0.8369054392735863\n",
            "Coeficiente de correlación (r): 0.9521514236883798\n"
          ]
        }
      ],
      "source": [
        "import numpy as np\n",
        "from scipy import stats\n",
        "\n",
        "# Datos de ejemplo\n",
        "x = np.array([1, 2, 3, 4, 5, 6, 7])\n",
        "y = np.array([0.2, 0.5, 1.8, 3.4, 5.7, 9.0, 13.8])\n",
        "\n",
        "# Regresión lineal\n",
        "slope, intercept, r_value, p_value, std_err = stats.linregress(x, y)\n",
        "\n",
        "# Desviación estándar\n",
        "std_dev = np.std(y)\n",
        "\n",
        "# Error estándar de la estimación\n",
        "std_err_est = std_err * np.sqrt(len(x))\n",
        "\n",
        "print(\"Desviación estándar:\", std_dev)\n",
        "print(\"Error estándar de la estimación:\", std_err_est)\n",
        "print(\"Coeficiente de correlación (r):\", r_value)"
      ]
    }
  ]
}