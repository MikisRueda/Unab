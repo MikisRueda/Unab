{
  "nbformat": 4,
  "nbformat_minor": 0,
  "metadata": {
    "colab": {
      "provenance": [],
      "authorship_tag": "ABX9TyPQFIh9NlxGOP51MgTYazZt",
      "include_colab_link": true
    },
    "kernelspec": {
      "name": "python3",
      "display_name": "Python 3"
    },
    "language_info": {
      "name": "python"
    }
  },
  "cells": [
    {
      "cell_type": "markdown",
      "metadata": {
        "id": "view-in-github",
        "colab_type": "text"
      },
      "source": [
        "<a href=\"https://colab.research.google.com/github/MikisRueda/MatematicasComputacionales2023/blob/main/Taller1.ipynb\" target=\"_parent\"><img src=\"https://colab.research.google.com/assets/colab-badge.svg\" alt=\"Open In Colab\"/></a>"
      ]
    },
    {
      "cell_type": "code",
      "source": [
        "import itertools\n",
        "\n",
        "\"\"\"\n",
        "  La función powerset toma como entrada un objeto iterable \n",
        "  (por ejemplo, una lista, una tupla o un conjunto) \n",
        "  y devuelve un objeto iterable que representa el conjunto potencia del objeto de entrada.\n",
        "\"\"\"\n",
        "\n",
        "def powerset(iterable):\n",
        "    s = list(iterable)\n",
        "    return itertools.chain.from_iterable(itertools.combinations(s, r) for r in range(len(s)+1))\n",
        "    \"\"\"\n",
        "    Esta función ( itertools.chain.from_iterable) toma un solo iterable como argumento y todos los elementos del iterable de\n",
        "    entrada también deben ser iterables y devuelve un iterable aplanado que contiene todos \n",
        "    los elementos del iterable de entrada.\n",
        "    \"\"\"\n",
        "\n",
        "conjunto = {2, 7, 4}\n",
        "resultado = list(powerset(conjunto))\n",
        "\n",
        "print(resultado)"
      ],
      "metadata": {
        "colab": {
          "base_uri": "https://localhost:8080/"
        },
        "id": "53Pzh7rjQLNs",
        "outputId": "c3152410-592b-4190-bfb9-438dfc0cc5ec"
      },
      "execution_count": 3,
      "outputs": [
        {
          "output_type": "stream",
          "name": "stdout",
          "text": [
            "[(), (2,), (4,), (7,), (2, 4), (2, 7), (4, 7), (2, 4, 7)]\n"
          ]
        }
      ]
    }
  ]
}