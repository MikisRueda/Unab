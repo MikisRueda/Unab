{
  "nbformat": 4,
  "nbformat_minor": 0,
  "metadata": {
    "colab": {
      "provenance": [],
      "authorship_tag": "ABX9TyOUCHy2L4d63KF+tcTxp/uT",
      "include_colab_link": true
    },
    "kernelspec": {
      "name": "python3",
      "display_name": "Python 3"
    },
    "language_info": {
      "name": "python"
    }
  },
  "cells": [
    {
      "cell_type": "markdown",
      "metadata": {
        "id": "view-in-github",
        "colab_type": "text"
      },
      "source": [
        "<a href=\"https://colab.research.google.com/github/MikisRueda/MC-2023-Miguel-Rueda/blob/main/Taller23.ipynb\" target=\"_parent\"><img src=\"https://colab.research.google.com/assets/colab-badge.svg\" alt=\"Open In Colab\"/></a>"
      ]
    },
    {
      "cell_type": "code",
      "execution_count": 13,
      "metadata": {
        "colab": {
          "base_uri": "https://localhost:8080/"
        },
        "id": "xkeDsXWvougM",
        "outputId": "cfa68a5d-5d41-4b40-e346-fb508fd83e7c"
      },
      "outputs": [
        {
          "output_type": "stream",
          "name": "stdout",
          "text": [
            "Polinomio\n",
            "-0.15*x*(x - 4)*(x - 3)*(x - 2) - x*(x - 4)*(x - 3)*(x - 1)/4 + 0.383333333333333*x*(x - 4)*(x - 2)*(x - 1) + 0.075*x*(x - 3)*(x - 2)*(x - 1) + (x - 4)*(x - 3)*(x - 2)*(x - 1)/24\n",
            "Polinomio Simple\n",
            "0.1*x**4 - 0.2*x**3 - 1.0*x**2 + 1.0*x + 1\n"
          ]
        }
      ],
      "source": [
        "import numpy as np\n",
        "import sympy as sym\n",
        "import matplotlib.pyplot as plt\n",
        "xi = [0,1,2,3,4]\n",
        "fi = [1,0.9,-1,-2.3,1.8]\n",
        "\n",
        "n = len(xi)\n",
        "x = sym.Symbol('x')\n",
        "polinomio = 0\n",
        "for i in range(0,n,1):\n",
        "  numerador = 1\n",
        "  denominador = 1\n",
        "\n",
        "  for j in range(0,n,1):\n",
        "    if(i!=j):\n",
        "      numerador = numerador*(x-xi[j])\n",
        "      denominador = denominador*(xi[i]-xi[j])\n",
        "  \n",
        "    termino = (numerador / denominador)*fi[i]\n",
        "  polinomio = polinomio + termino\n",
        "polisimple = sym.expand(polinomio)\n",
        "\n",
        "print('Polinomio')\n",
        "print(polinomio)\n",
        "print('Polinomio Simple')\n",
        "print(polisimple)\n"
      ]
    }
  ]
}