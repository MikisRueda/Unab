{
  "nbformat": 4,
  "nbformat_minor": 0,
  "metadata": {
    "colab": {
      "provenance": [],
      "authorship_tag": "ABX9TyNtGOzpt0tXkKpEtKDN7g8f",
      "include_colab_link": true
    },
    "kernelspec": {
      "name": "python3",
      "display_name": "Python 3"
    },
    "language_info": {
      "name": "python"
    }
  },
  "cells": [
    {
      "cell_type": "markdown",
      "metadata": {
        "id": "view-in-github",
        "colab_type": "text"
      },
      "source": [
        "<a href=\"https://colab.research.google.com/github/MikisRueda/MC-2023-Miguel-Rueda/blob/main/vectores_y_matrices.ipynb\" target=\"_parent\"><img src=\"https://colab.research.google.com/assets/colab-badge.svg\" alt=\"Open In Colab\"/></a>"
      ]
    },
    {
      "cell_type": "code",
      "execution_count": null,
      "metadata": {
        "id": "mr34Yv1sgMwH"
      },
      "outputs": [],
      "source": [
        "#El usuario debe ingresar el tamaño - longitud de los vectores\n",
        "n = int(input(\"Ingrese la longitud de los vectores: \"))\n",
        "\n",
        "# El usuario debe los elementos del primer vector\n",
        "print(\"Ingrese los elementos del primer vector:\")\n",
        "vector1 = []\n",
        "for i in range(n):\n",
        "    vector1.append(float(input()))\n",
        "\n",
        "# El usuario debe ingresar los elementos del segundo vector\n",
        "print(\"Ingrese los elementos del segundo vector:\")\n",
        "vector2 = []\n",
        "for i in range(n):\n",
        "    vector2.append(float(input()))\n",
        "\n",
        "# Calcule el producto escalar de los dos vectores\n",
        "producto = 0\n",
        "for i in range(n):\n",
        "    producto += vector1[i] * vector2[i]\n",
        "\n",
        "# Resultado\n",
        "print(\"El producto escalar de los dos vectores es: \", producto)"
      ]
    },
    {
      "cell_type": "code",
      "source": [
        "# Pedir al usuario las dimensiones de las matrices\n",
        "filas_a = int(input(\"Ingrese el número de filas de la matriz A: \"))\n",
        "columnas_a = int(input(\"Ingrese el número de columnas de la matriz A: \"))\n",
        "filas_b = int(input(\"Ingrese el número de filas de la matriz B: \"))\n",
        "columnas_b = int(input(\"Ingrese el número de columnas de la matriz B: \"))\n",
        "\n",
        "# Validar si las matrices pueden ser multiplicadas\n",
        "if columnas_a != filas_b:\n",
        "    print(\"ERROR - No se pueden multiplicar las matrices. El número de columnas debe ser igual al número de filas.\")\n",
        "else:\n",
        "    # Ingrese los elementos de la matriz A\n",
        "    print(\"Ingrese los elementos de la matriz A:\")\n",
        "    matriz_a = []\n",
        "    for i in range(filas_a):\n",
        "        fila = []\n",
        "        for j in range(columnas_a):\n",
        "            fila.append(float(input()))\n",
        "        matriz_a.append(fila)\n",
        "\n",
        "    # Ingrese los elementos de la matriz B\n",
        "    print(\"Ingrese los elementos de la matriz B:\")\n",
        "    matriz_b = []\n",
        "    for i in range(filas_b):\n",
        "        fila = []\n",
        "        for j in range(columnas_b):\n",
        "            fila.append(float(input()))\n",
        "        matriz_b.append(fila)\n",
        "\n",
        "    # Realizar la multiplicación de las matrices\n",
        "    matriz_resultado = []\n",
        "    for i in range(filas_a):\n",
        "        fila_resultado = []\n",
        "        for j in range(columnas_b):\n",
        "            elemento_resultado = 0\n",
        "            for k in range(columnas_a):\n",
        "                elemento_resultado += matriz_a[i][k] * matriz_b[k][j]\n",
        "            fila_resultado.append(elemento_resultado)\n",
        "        matriz_resultado.append(fila_resultado)\n",
        "      \n",
        "  \n",
        "    # Realizar las operaciones...\n",
        "\n",
        "    # Operación 3A\n",
        "    matriz_3a = [[3 * elemento for elemento in fila] for fila in matriz_a]\n",
        "    # Operación 4B\n",
        "    matriz_4b = [[4 * elemento for elemento in fila] for fila in matriz_b]\n",
        "    # Operación A + B\n",
        "    matriz_suma = []\n",
        "    for i in range(filas_a):\n",
        "        fila_suma = []\n",
        "        for j in range(columnas_a):\n",
        "            elemento_suma = matriz_a[i][j] + matriz_b[i][j]\n",
        "            fila_suma.append(elemento_suma)\n",
        "        matriz_suma.append(fila_suma)\n",
        "    # Operación B X A\n",
        "    matriz_multi = []\n",
        "    for i in range(filas_b):\n",
        "        fila_suma = []\n",
        "        for j in range(columnas_b):\n",
        "            elemento_suma = matriz_b[i][j] * matriz_a[i][j]\n",
        "            fila_suma.append(elemento_suma)\n",
        "        matriz_multi.append(fila_suma)\n",
        "\n",
        "    print(\"A) 3A\")\n",
        "    for fila in matriz_3a:\n",
        "        print(\"RTA: \" + fila)\n",
        "    \n",
        "    print(\"B) 4B\")\n",
        "    for fila in matriz_4b:\n",
        "        print(\"RTA: \" + fila)\n",
        "\n",
        "    print(\"C) A + B\")\n",
        "    for fila in matriz_suma:\n",
        "        print(\"RTA: \" + fila)\n",
        "    \n",
        "    print(\"A) A x B\")\n",
        "    for fila in matriz_multi:\n",
        "        print(\"RTA: \" + fila)\n"
      ],
      "metadata": {
        "colab": {
          "base_uri": "https://localhost:8080/"
        },
        "id": "O2eLX2Otgnqu",
        "outputId": "0d125e9d-4131-48c8-c95f-428cb852c3a5"
      },
      "execution_count": 2,
      "outputs": [
        {
          "output_type": "stream",
          "name": "stdout",
          "text": [
            "Ingrese el número de filas de la matriz A: 2\n",
            "Ingrese el número de columnas de la matriz A: 2\n",
            "Ingrese el número de filas de la matriz B: 2\n",
            "Ingrese el número de columnas de la matriz B: 2\n",
            "Ingrese los elementos de la matriz A:\n",
            "2\n",
            "3\n",
            "4\n",
            "5\n",
            "Ingrese los elementos de la matriz B:\n",
            "5\n",
            "7\n",
            "3\n",
            "2\n",
            "A) 3A\n",
            "[[15.0, 15.0], [27.0, 27.0]]\n"
          ]
        }
      ]
    }
  ]
}